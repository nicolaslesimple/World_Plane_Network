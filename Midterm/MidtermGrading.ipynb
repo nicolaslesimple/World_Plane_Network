{
 "cells": [
  {
   "cell_type": "markdown",
   "metadata": {},
   "source": [
    "# Midterm grading\n",
    "\n",
    "This notebook contains the grading of your midterm project.\n",
    "\n",
    "The scheme breaks down as follows:\n",
    "\n",
    "$\\qquad$20% - Description of the data and background.  \n",
    "$\\qquad$30% - Thoroughness of the quantitative analysis.  \n",
    "$\\qquad$30% - Thoughtfulness and clarity of the interpretation of quantitative results.  \n",
    "$\\qquad$10% - Novelty and suitability of the data.  \n",
    "$\\qquad$10% - Quality of documentation.\n",
    "\n",
    "In each category, up to 80% of the marks will be awarded for meeting minimum expectations. The last 20% will be awarded for exceeding expectations.\n",
    "\n",
    "For further information on the minimum expectations, please the instructions found in your original Report notebook."
   ]
  },
  {
   "cell_type": "markdown",
   "metadata": {},
   "source": [
    "---\n",
    "## Description of the data and background\n",
    "\n",
    "#### Towards the minimum\n",
    "\n",
    "Data is extremely well described and much background is covered.\n",
    "\n",
    "Could have been structured a bit better so the main points where immediately obivious.\n",
    "\n",
    "15/16\n",
    "\n",
    "#### Exceeding the minimum\n",
    "\n",
    "See above.\n",
    "\n",
    "4/4\n",
    "\n",
    "\n",
    "Total: 19/20"
   ]
  },
  {
   "cell_type": "code",
   "execution_count": 1,
   "metadata": {
    "collapsed": true
   },
   "outputs": [],
   "source": [
    "DescriptionAndBackgroundScore = 19"
   ]
  },
  {
   "cell_type": "markdown",
   "metadata": {},
   "source": [
    "---\n",
    "## Thoroughness of the quantitative analysis\n",
    "\n",
    "#### Towards the minimum\n",
    "\n",
    "The material of lectures 1 to 5 is very well covered.\n",
    "\n",
    "24/24\n",
    "\n",
    "#### Exceeding the minimum\n",
    "\n",
    "In most analyses, the depth exceeds the minimum.\n",
    "\n",
    "6/6\n",
    "\n",
    "\n",
    "Total: 29/30"
   ]
  },
  {
   "cell_type": "code",
   "execution_count": 2,
   "metadata": {
    "collapsed": true
   },
   "outputs": [],
   "source": [
    "QuantitativeAnalysisScore = 29"
   ]
  },
  {
   "cell_type": "markdown",
   "metadata": {},
   "source": [
    "---\n",
    "## Thoughtfulness and clarity of the interpretation of quantitative results\n",
    "\n",
    "#### Towards the minimum\n",
    "\n",
    "Each result is discussed in depth and well connected to the system from which the data arises.\n",
    "\n",
    "24/24\n",
    "\n",
    "#### Exceeding the minimum\n",
    "\n",
    "Outliers are well covered. Results are well connected to earlier results.\n",
    "\n",
    "4/6\n",
    "\n",
    "\n",
    "Total: 28/30"
   ]
  },
  {
   "cell_type": "code",
   "execution_count": 3,
   "metadata": {
    "collapsed": true
   },
   "outputs": [],
   "source": [
    "InterpretationOfAnalysisScore = 28"
   ]
  },
  {
   "cell_type": "markdown",
   "metadata": {},
   "source": [
    "---\n",
    "## Novelty and suitability of the data\n",
    "\n",
    "#### Towards the minimum\n",
    "\n",
    "The network is highly suitable for network analysis.\n",
    "\n",
    "While it has been analyzed as a network many times before, it remains moderately novel\n",
    "\n",
    "8/8\n",
    "\n",
    "#### Exceeding the minimum\n",
    "\n",
    "Nil\n",
    "\n",
    "0/2\n",
    "\n",
    "\n",
    "Total: 8/10"
   ]
  },
  {
   "cell_type": "code",
   "execution_count": 4,
   "metadata": {
    "collapsed": true
   },
   "outputs": [],
   "source": [
    "NoveltyOfDataScore = 8"
   ]
  },
  {
   "cell_type": "markdown",
   "metadata": {},
   "source": [
    "---\n",
    "## Quality of documentation\n",
    "\n",
    "#### Towards the minimum\n",
    "\n",
    "Code is commented as necessary and quality of writing is outstanding.\n",
    "\n",
    "8/8\n",
    "\n",
    "#### Exceeding the minimum\n",
    "\n",
    "See above.\n",
    "\n",
    "2/2\n",
    "\n",
    "\n",
    "Total: 10/10"
   ]
  },
  {
   "cell_type": "code",
   "execution_count": 5,
   "metadata": {
    "collapsed": true
   },
   "outputs": [],
   "source": [
    "DocumentationScore = 10"
   ]
  },
  {
   "cell_type": "markdown",
   "metadata": {},
   "source": [
    "---"
   ]
  },
  {
   "cell_type": "code",
   "execution_count": 6,
   "metadata": {},
   "outputs": [
    {
     "name": "stdout",
     "output_type": "stream",
     "text": [
      "Final grade is 94 out of 100\n"
     ]
    }
   ],
   "source": [
    "FinalScore = DescriptionAndBackgroundScore+QuantitativeAnalysisScore+InterpretationOfAnalysisScore+NoveltyOfDataScore+DocumentationScore\n",
    "print(\"Final grade is {} out of 100\".format(FinalScore))"
   ]
  }
 ],
 "metadata": {
  "kernelspec": {
   "display_name": "mgt-416",
   "language": "python",
   "name": "mgt-416"
  },
  "language_info": {
   "codemirror_mode": {
    "name": "ipython",
    "version": 3
   },
   "file_extension": ".py",
   "mimetype": "text/x-python",
   "name": "python",
   "nbconvert_exporter": "python",
   "pygments_lexer": "ipython3",
   "version": "3.5.2"
  }
 },
 "nbformat": 4,
 "nbformat_minor": 2
}
